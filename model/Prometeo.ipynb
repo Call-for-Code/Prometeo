{
    "cells": [
        {
            "cell_type": "code",
            "execution_count": 196,
            "metadata": {
                "scrolled": true
            },
            "outputs": [
                {
                    "name": "stdout",
                    "output_type": "stream",
                    "text": "Requirement already satisfied: graphviz in /opt/conda/envs/Python36/lib/python3.6/site-packages (0.13.2)\nRequirement already satisfied: watson_machine_learning_client in /opt/conda/envs/Python36/lib/python3.6/site-packages (1.0.376)\nRequirement already satisfied: ibm-cos-sdk in /opt/conda/envs/Python36/lib/python3.6/site-packages (from watson_machine_learning_client) (2.4.3)\nRequirement already satisfied: pandas in /opt/conda/envs/Python36/lib/python3.6/site-packages (from watson_machine_learning_client) (0.24.1)\nRequirement already satisfied: urllib3 in /opt/conda/envs/Python36/lib/python3.6/site-packages (from watson_machine_learning_client) (1.24.1)\nRequirement already satisfied: certifi in /opt/conda/envs/Python36/lib/python3.6/site-packages (from watson_machine_learning_client) (2019.11.28)\nRequirement already satisfied: lomond in /opt/conda/envs/Python36/lib/python3.6/site-packages (from watson_machine_learning_client) (0.3.3)\nRequirement already satisfied: tabulate in /opt/conda/envs/Python36/lib/python3.6/site-packages (from watson_machine_learning_client) (0.8.2)\nRequirement already satisfied: tqdm in /opt/conda/envs/Python36/lib/python3.6/site-packages (from watson_machine_learning_client) (4.31.1)\nRequirement already satisfied: requests in /opt/conda/envs/Python36/lib/python3.6/site-packages (from watson_machine_learning_client) (2.21.0)\nRequirement already satisfied: ibm-cos-sdk-s3transfer==2.*,>=2.0.0 in /opt/conda/envs/Python36/lib/python3.6/site-packages (from ibm-cos-sdk->watson_machine_learning_client) (2.4.3)\nRequirement already satisfied: ibm-cos-sdk-core==2.*,>=2.0.0 in /opt/conda/envs/Python36/lib/python3.6/site-packages (from ibm-cos-sdk->watson_machine_learning_client) (2.4.3)\nRequirement already satisfied: pytz>=2011k in /opt/conda/envs/Python36/lib/python3.6/site-packages (from pandas->watson_machine_learning_client) (2018.9)\nRequirement already satisfied: numpy>=1.12.0 in /opt/conda/envs/Python36/lib/python3.6/site-packages (from pandas->watson_machine_learning_client) (1.15.4)\nRequirement already satisfied: python-dateutil>=2.5.0 in /opt/conda/envs/Python36/lib/python3.6/site-packages (from pandas->watson_machine_learning_client) (2.7.5)\nRequirement already satisfied: six>=1.10.0 in /opt/conda/envs/Python36/lib/python3.6/site-packages (from lomond->watson_machine_learning_client) (1.12.0)\nRequirement already satisfied: chardet<3.1.0,>=3.0.2 in /opt/conda/envs/Python36/lib/python3.6/site-packages (from requests->watson_machine_learning_client) (3.0.4)\nRequirement already satisfied: idna<2.9,>=2.5 in /opt/conda/envs/Python36/lib/python3.6/site-packages (from requests->watson_machine_learning_client) (2.8)\nRequirement already satisfied: docutils>=0.10 in /opt/conda/envs/Python36/lib/python3.6/site-packages (from ibm-cos-sdk-core==2.*,>=2.0.0->ibm-cos-sdk->watson_machine_learning_client) (0.14)\nRequirement already satisfied: jmespath<1.0.0,>=0.7.1 in /opt/conda/envs/Python36/lib/python3.6/site-packages (from ibm-cos-sdk-core==2.*,>=2.0.0->ibm-cos-sdk->watson_machine_learning_client) (0.9.3)\n"
                }
            ],
            "source": "\n!pip install graphviz # Needed to paint the decision tree\n\n!pip install watson_machine_learning_client # Needed to work with the Watson Machine Learning Python client\n\n"
        },
        {
            "cell_type": "code",
            "execution_count": 197,
            "metadata": {},
            "outputs": [],
            "source": "# Import libraries\n\nfrom sklearn.pipeline import Pipeline\nfrom sklearn.linear_model import LogisticRegression\nfrom sklearn.model_selection import train_test_split\nfrom sklearn.ensemble import ExtraTreesClassifier\nfrom sklearn.tree import DecisionTreeClassifier\nfrom sklearn.ensemble import RandomForestClassifier\nimport json\nfrom sklearn import tree\nfrom sklearn import metrics #Import scikit-learn metrics module for accuracy calculation\nfrom watson_machine_learning_client import WatsonMachineLearningAPIClient\nimport graphviz \nfrom IPython.display import display\n"
        },
        {
            "cell_type": "code",
            "execution_count": 198,
            "metadata": {},
            "outputs": [
                {
                    "data": {
                        "text/html": "<div>\n<style scoped>\n    .dataframe tbody tr th:only-of-type {\n        vertical-align: middle;\n    }\n\n    .dataframe tbody tr th {\n        vertical-align: top;\n    }\n\n    .dataframe thead th {\n        text-align: right;\n    }\n</style>\n<table border=\"1\" class=\"dataframe\">\n  <thead>\n    <tr style=\"text-align: right;\">\n      <th></th>\n      <th>Humidity</th>\n      <th>Temperature</th>\n      <th>CO</th>\n      <th>Status</th>\n    </tr>\n  </thead>\n  <tbody>\n    <tr>\n      <th>0</th>\n      <td>17</td>\n      <td>-3</td>\n      <td>2</td>\n      <td>1</td>\n    </tr>\n    <tr>\n      <th>1</th>\n      <td>17</td>\n      <td>-5</td>\n      <td>5</td>\n      <td>1</td>\n    </tr>\n    <tr>\n      <th>2</th>\n      <td>17</td>\n      <td>-4</td>\n      <td>2</td>\n      <td>1</td>\n    </tr>\n    <tr>\n      <th>3</th>\n      <td>17</td>\n      <td>2</td>\n      <td>0</td>\n      <td>1</td>\n    </tr>\n    <tr>\n      <th>4</th>\n      <td>17</td>\n      <td>0</td>\n      <td>15</td>\n      <td>1</td>\n    </tr>\n  </tbody>\n</table>\n</div>",
                        "text/plain": "   Humidity  Temperature  CO  Status\n0        17           -3   2       1\n1        17           -5   5       1\n2        17           -4   2       1\n3        17            2   0       1\n4        17            0  15       1"
                    },
                    "execution_count": 198,
                    "metadata": {},
                    "output_type": "execute_result"
                }
            ],
            "source": "# The code was removed by Watson Studio for sharing."
        },
        {
            "cell_type": "code",
            "execution_count": 199,
            "metadata": {},
            "outputs": [],
            "source": "# TRAIN AND EVALUATE THE MODEL\n#split dataset in features and target variable\nfeature_cols = ['Humidity', 'Temperature', 'CO']\nX = df_data_2[feature_cols] # Features\ny = df_data_2.Status # Target variable\n\n# Split the training data into a training set and a test set\nX_train, X_test, y_train, y_test = train_test_split(X, y, test_size= 0.25, random_state = 0)"
        },
        {
            "cell_type": "code",
            "execution_count": 200,
            "metadata": {},
            "outputs": [
                {
                    "data": {
                        "text/html": "<div>\n<style scoped>\n    .dataframe tbody tr th:only-of-type {\n        vertical-align: middle;\n    }\n\n    .dataframe tbody tr th {\n        vertical-align: top;\n    }\n\n    .dataframe thead th {\n        text-align: right;\n    }\n</style>\n<table border=\"1\" class=\"dataframe\">\n  <thead>\n    <tr style=\"text-align: right;\">\n      <th></th>\n      <th>Humidity</th>\n      <th>Temperature</th>\n      <th>CO</th>\n    </tr>\n  </thead>\n  <tbody>\n    <tr>\n      <th>301</th>\n      <td>21</td>\n      <td>18</td>\n      <td>42</td>\n    </tr>\n    <tr>\n      <th>181</th>\n      <td>38</td>\n      <td>14</td>\n      <td>20</td>\n    </tr>\n    <tr>\n      <th>200</th>\n      <td>38</td>\n      <td>35</td>\n      <td>1</td>\n    </tr>\n    <tr>\n      <th>49</th>\n      <td>17</td>\n      <td>48</td>\n      <td>4</td>\n    </tr>\n    <tr>\n      <th>217</th>\n      <td>38</td>\n      <td>39</td>\n      <td>22</td>\n    </tr>\n  </tbody>\n</table>\n</div>",
                        "text/plain": "     Humidity  Temperature  CO\n301        21           18  42\n181        38           14  20\n200        38           35   1\n49         17           48   4\n217        38           39  22"
                    },
                    "execution_count": 200,
                    "metadata": {},
                    "output_type": "execute_result"
                }
            ],
            "source": "X_train.head()"
        },
        {
            "cell_type": "code",
            "execution_count": 201,
            "metadata": {},
            "outputs": [
                {
                    "data": {
                        "text/html": "<div>\n<style scoped>\n    .dataframe tbody tr th:only-of-type {\n        vertical-align: middle;\n    }\n\n    .dataframe tbody tr th {\n        vertical-align: top;\n    }\n\n    .dataframe thead th {\n        text-align: right;\n    }\n</style>\n<table border=\"1\" class=\"dataframe\">\n  <thead>\n    <tr style=\"text-align: right;\">\n      <th></th>\n      <th>Humidity</th>\n      <th>Temperature</th>\n      <th>CO</th>\n    </tr>\n  </thead>\n  <tbody>\n    <tr>\n      <th>54</th>\n      <td>17</td>\n      <td>53</td>\n      <td>9</td>\n    </tr>\n    <tr>\n      <th>124</th>\n      <td>38</td>\n      <td>18</td>\n      <td>25</td>\n    </tr>\n    <tr>\n      <th>264</th>\n      <td>21</td>\n      <td>10</td>\n      <td>19</td>\n    </tr>\n    <tr>\n      <th>175</th>\n      <td>38</td>\n      <td>8</td>\n      <td>5</td>\n    </tr>\n    <tr>\n      <th>283</th>\n      <td>21</td>\n      <td>37</td>\n      <td>22</td>\n    </tr>\n  </tbody>\n</table>\n</div>",
                        "text/plain": "     Humidity  Temperature  CO\n54         17           53   9\n124        38           18  25\n264        21           10  19\n175        38            8   5\n283        21           37  22"
                    },
                    "execution_count": 201,
                    "metadata": {},
                    "output_type": "execute_result"
                }
            ],
            "source": "\n\nX_test.head()\n\n"
        },
        {
            "cell_type": "code",
            "execution_count": 202,
            "metadata": {
                "scrolled": true
            },
            "outputs": [
                {
                    "data": {
                        "text/plain": "301    3\n181    1\n200    1\n49     3\n217    2\nName: Status, dtype: int64"
                    },
                    "execution_count": 202,
                    "metadata": {},
                    "output_type": "execute_result"
                }
            ],
            "source": "y_train.head()"
        },
        {
            "cell_type": "code",
            "execution_count": 203,
            "metadata": {},
            "outputs": [],
            "source": "\n\n# Train the model\nclf = tree.DecisionTreeClassifier()\nclf = clf.fit(X_train, y_train)\n#tree.plot_tree(clf)"
        },
        {
            "cell_type": "code",
            "execution_count": 204,
            "metadata": {},
            "outputs": [
                {
                    "data": {
                        "image/svg+xml": "<?xml version=\"1.0\" encoding=\"UTF-8\" standalone=\"no\"?>\n<!DOCTYPE svg PUBLIC \"-//W3C//DTD SVG 1.1//EN\"\n \"http://www.w3.org/Graphics/SVG/1.1/DTD/svg11.dtd\">\n<!-- Generated by graphviz version 2.40.1 (20161225.0304)\n -->\n<!-- Title: Tree Pages: 1 -->\n<svg width=\"497pt\" height=\"477pt\"\n viewBox=\"0.00 0.00 496.50 477.00\" xmlns=\"http://www.w3.org/2000/svg\" xmlns:xlink=\"http://www.w3.org/1999/xlink\">\n<g id=\"graph0\" class=\"graph\" transform=\"scale(1 1) rotate(0) translate(4 473)\">\n<title>Tree</title>\n<polygon fill=\"#ffffff\" stroke=\"transparent\" points=\"-4,4 -4,-473 492.5,-473 492.5,4 -4,4\"/>\n<!-- 0 -->\n<g id=\"node1\" class=\"node\">\n<title>0</title>\n<polygon fill=\"none\" stroke=\"#000000\" points=\"415,-469 247,-469 247,-401 415,-401 415,-469\"/>\n<text text-anchor=\"middle\" x=\"331\" y=\"-453.8\" font-family=\"Times,serif\" font-size=\"14.00\" fill=\"#000000\">X[2] &lt;= 25.5</text>\n<text text-anchor=\"middle\" x=\"331\" y=\"-438.8\" font-family=\"Times,serif\" font-size=\"14.00\" fill=\"#000000\">gini = 0.657</text>\n<text text-anchor=\"middle\" x=\"331\" y=\"-423.8\" font-family=\"Times,serif\" font-size=\"14.00\" fill=\"#000000\">samples = 291</text>\n<text text-anchor=\"middle\" x=\"331\" y=\"-408.8\" font-family=\"Times,serif\" font-size=\"14.00\" fill=\"#000000\">value = [117, 76, 98]</text>\n</g>\n<!-- 1 -->\n<g id=\"node2\" class=\"node\">\n<title>1</title>\n<polygon fill=\"none\" stroke=\"#000000\" points=\"329,-365 161,-365 161,-297 329,-297 329,-365\"/>\n<text text-anchor=\"middle\" x=\"245\" y=\"-349.8\" font-family=\"Times,serif\" font-size=\"14.00\" fill=\"#000000\">X[2] &lt;= 20.5</text>\n<text text-anchor=\"middle\" x=\"245\" y=\"-334.8\" font-family=\"Times,serif\" font-size=\"14.00\" fill=\"#000000\">gini = 0.598</text>\n<text text-anchor=\"middle\" x=\"245\" y=\"-319.8\" font-family=\"Times,serif\" font-size=\"14.00\" fill=\"#000000\">samples = 226</text>\n<text text-anchor=\"middle\" x=\"245\" y=\"-304.8\" font-family=\"Times,serif\" font-size=\"14.00\" fill=\"#000000\">value = [117, 76, 33]</text>\n</g>\n<!-- 0&#45;&gt;1 -->\n<g id=\"edge1\" class=\"edge\">\n<title>0&#45;&gt;1</title>\n<path fill=\"none\" stroke=\"#000000\" d=\"M302.8404,-400.9465C295.4158,-391.968 287.3185,-382.1758 279.5972,-372.8385\"/>\n<polygon fill=\"#000000\" stroke=\"#000000\" points=\"282.2928,-370.606 273.2229,-365.13 276.8983,-375.0669 282.2928,-370.606\"/>\n<text text-anchor=\"middle\" x=\"270.865\" y=\"-386.3186\" font-family=\"Times,serif\" font-size=\"14.00\" fill=\"#000000\">True</text>\n</g>\n<!-- 8 -->\n<g id=\"node9\" class=\"node\">\n<title>8</title>\n<polygon fill=\"none\" stroke=\"#000000\" points=\"488.5,-357.5 347.5,-357.5 347.5,-304.5 488.5,-304.5 488.5,-357.5\"/>\n<text text-anchor=\"middle\" x=\"418\" y=\"-342.3\" font-family=\"Times,serif\" font-size=\"14.00\" fill=\"#000000\">gini = 0.0</text>\n<text text-anchor=\"middle\" x=\"418\" y=\"-327.3\" font-family=\"Times,serif\" font-size=\"14.00\" fill=\"#000000\">samples = 65</text>\n<text text-anchor=\"middle\" x=\"418\" y=\"-312.3\" font-family=\"Times,serif\" font-size=\"14.00\" fill=\"#000000\">value = [0, 0, 65]</text>\n</g>\n<!-- 0&#45;&gt;8 -->\n<g id=\"edge8\" class=\"edge\">\n<title>0&#45;&gt;8</title>\n<path fill=\"none\" stroke=\"#000000\" d=\"M359.4871,-400.9465C369.07,-389.491 379.761,-376.711 389.3559,-365.2412\"/>\n<polygon fill=\"#000000\" stroke=\"#000000\" points=\"392.0646,-367.458 395.7965,-357.5422 386.6955,-362.9666 392.0646,-367.458\"/>\n<text text-anchor=\"middle\" x=\"398.0128\" y=\"-378.7437\" font-family=\"Times,serif\" font-size=\"14.00\" fill=\"#000000\">False</text>\n</g>\n<!-- 2 -->\n<g id=\"node3\" class=\"node\">\n<title>2</title>\n<polygon fill=\"none\" stroke=\"#000000\" points=\"243,-261 75,-261 75,-193 243,-193 243,-261\"/>\n<text text-anchor=\"middle\" x=\"159\" y=\"-245.8\" font-family=\"Times,serif\" font-size=\"14.00\" fill=\"#000000\">X[1] &lt;= 35.5</text>\n<text text-anchor=\"middle\" x=\"159\" y=\"-230.8\" font-family=\"Times,serif\" font-size=\"14.00\" fill=\"#000000\">gini = 0.475</text>\n<text text-anchor=\"middle\" x=\"159\" y=\"-215.8\" font-family=\"Times,serif\" font-size=\"14.00\" fill=\"#000000\">samples = 170</text>\n<text text-anchor=\"middle\" x=\"159\" y=\"-200.8\" font-family=\"Times,serif\" font-size=\"14.00\" fill=\"#000000\">value = [117, 20, 33]</text>\n</g>\n<!-- 1&#45;&gt;2 -->\n<g id=\"edge2\" class=\"edge\">\n<title>1&#45;&gt;2</title>\n<path fill=\"none\" stroke=\"#000000\" d=\"M216.8404,-296.9465C209.4158,-287.968 201.3185,-278.1758 193.5972,-268.8385\"/>\n<polygon fill=\"#000000\" stroke=\"#000000\" points=\"196.2928,-266.606 187.2229,-261.13 190.8983,-271.0669 196.2928,-266.606\"/>\n</g>\n<!-- 7 -->\n<g id=\"node8\" class=\"node\">\n<title>7</title>\n<polygon fill=\"none\" stroke=\"#000000\" points=\"402.5,-253.5 261.5,-253.5 261.5,-200.5 402.5,-200.5 402.5,-253.5\"/>\n<text text-anchor=\"middle\" x=\"332\" y=\"-238.3\" font-family=\"Times,serif\" font-size=\"14.00\" fill=\"#000000\">gini = 0.0</text>\n<text text-anchor=\"middle\" x=\"332\" y=\"-223.3\" font-family=\"Times,serif\" font-size=\"14.00\" fill=\"#000000\">samples = 56</text>\n<text text-anchor=\"middle\" x=\"332\" y=\"-208.3\" font-family=\"Times,serif\" font-size=\"14.00\" fill=\"#000000\">value = [0, 56, 0]</text>\n</g>\n<!-- 1&#45;&gt;7 -->\n<g id=\"edge7\" class=\"edge\">\n<title>1&#45;&gt;7</title>\n<path fill=\"none\" stroke=\"#000000\" d=\"M273.4871,-296.9465C283.07,-285.491 293.761,-272.711 303.3559,-261.2412\"/>\n<polygon fill=\"#000000\" stroke=\"#000000\" points=\"306.0646,-263.458 309.7965,-253.5422 300.6955,-258.9666 306.0646,-263.458\"/>\n</g>\n<!-- 3 -->\n<g id=\"node4\" class=\"node\">\n<title>3</title>\n<polygon fill=\"none\" stroke=\"#000000\" points=\"150,-149.5 0,-149.5 0,-96.5 150,-96.5 150,-149.5\"/>\n<text text-anchor=\"middle\" x=\"75\" y=\"-134.3\" font-family=\"Times,serif\" font-size=\"14.00\" fill=\"#000000\">gini = 0.0</text>\n<text text-anchor=\"middle\" x=\"75\" y=\"-119.3\" font-family=\"Times,serif\" font-size=\"14.00\" fill=\"#000000\">samples = 117</text>\n<text text-anchor=\"middle\" x=\"75\" y=\"-104.3\" font-family=\"Times,serif\" font-size=\"14.00\" fill=\"#000000\">value = [117, 0, 0]</text>\n</g>\n<!-- 2&#45;&gt;3 -->\n<g id=\"edge3\" class=\"edge\">\n<title>2&#45;&gt;3</title>\n<path fill=\"none\" stroke=\"#000000\" d=\"M131.4953,-192.9465C122.3317,-181.6012 112.1189,-168.9567 102.9239,-157.5724\"/>\n<polygon fill=\"#000000\" stroke=\"#000000\" points=\"105.4441,-155.1224 96.4379,-149.5422 99.9985,-159.5208 105.4441,-155.1224\"/>\n</g>\n<!-- 4 -->\n<g id=\"node5\" class=\"node\">\n<title>4</title>\n<polygon fill=\"none\" stroke=\"#000000\" points=\"318,-157 168,-157 168,-89 318,-89 318,-157\"/>\n<text text-anchor=\"middle\" x=\"243\" y=\"-141.8\" font-family=\"Times,serif\" font-size=\"14.00\" fill=\"#000000\">X[1] &lt;= 40.5</text>\n<text text-anchor=\"middle\" x=\"243\" y=\"-126.8\" font-family=\"Times,serif\" font-size=\"14.00\" fill=\"#000000\">gini = 0.47</text>\n<text text-anchor=\"middle\" x=\"243\" y=\"-111.8\" font-family=\"Times,serif\" font-size=\"14.00\" fill=\"#000000\">samples = 53</text>\n<text text-anchor=\"middle\" x=\"243\" y=\"-96.8\" font-family=\"Times,serif\" font-size=\"14.00\" fill=\"#000000\">value = [0, 20, 33]</text>\n</g>\n<!-- 2&#45;&gt;4 -->\n<g id=\"edge4\" class=\"edge\">\n<title>2&#45;&gt;4</title>\n<path fill=\"none\" stroke=\"#000000\" d=\"M186.5047,-192.9465C193.6841,-184.0578 201.5076,-174.3716 208.981,-165.1188\"/>\n<polygon fill=\"#000000\" stroke=\"#000000\" points=\"211.8729,-167.1086 215.4335,-157.13 206.4273,-162.7102 211.8729,-167.1086\"/>\n</g>\n<!-- 5 -->\n<g id=\"node6\" class=\"node\">\n<title>5</title>\n<polygon fill=\"none\" stroke=\"#000000\" points=\"233.5,-53 92.5,-53 92.5,0 233.5,0 233.5,-53\"/>\n<text text-anchor=\"middle\" x=\"163\" y=\"-37.8\" font-family=\"Times,serif\" font-size=\"14.00\" fill=\"#000000\">gini = 0.0</text>\n<text text-anchor=\"middle\" x=\"163\" y=\"-22.8\" font-family=\"Times,serif\" font-size=\"14.00\" fill=\"#000000\">samples = 20</text>\n<text text-anchor=\"middle\" x=\"163\" y=\"-7.8\" font-family=\"Times,serif\" font-size=\"14.00\" fill=\"#000000\">value = [0, 20, 0]</text>\n</g>\n<!-- 4&#45;&gt;5 -->\n<g id=\"edge5\" class=\"edge\">\n<title>4&#45;&gt;5</title>\n<path fill=\"none\" stroke=\"#000000\" d=\"M214.795,-88.9777C207.2796,-79.9123 199.1542,-70.111 191.617,-61.0192\"/>\n<polygon fill=\"#000000\" stroke=\"#000000\" points=\"194.2516,-58.7133 185.1749,-53.2485 188.8626,-63.1808 194.2516,-58.7133\"/>\n</g>\n<!-- 6 -->\n<g id=\"node7\" class=\"node\">\n<title>6</title>\n<polygon fill=\"none\" stroke=\"#000000\" points=\"392.5,-53 251.5,-53 251.5,0 392.5,0 392.5,-53\"/>\n<text text-anchor=\"middle\" x=\"322\" y=\"-37.8\" font-family=\"Times,serif\" font-size=\"14.00\" fill=\"#000000\">gini = 0.0</text>\n<text text-anchor=\"middle\" x=\"322\" y=\"-22.8\" font-family=\"Times,serif\" font-size=\"14.00\" fill=\"#000000\">samples = 33</text>\n<text text-anchor=\"middle\" x=\"322\" y=\"-7.8\" font-family=\"Times,serif\" font-size=\"14.00\" fill=\"#000000\">value = [0, 0, 33]</text>\n</g>\n<!-- 4&#45;&gt;6 -->\n<g id=\"edge6\" class=\"edge\">\n<title>4&#45;&gt;6</title>\n<path fill=\"none\" stroke=\"#000000\" d=\"M270.8524,-88.9777C278.2739,-79.9123 286.2977,-70.111 293.7407,-61.0192\"/>\n<polygon fill=\"#000000\" stroke=\"#000000\" points=\"296.4759,-63.2034 300.1023,-53.2485 291.0595,-58.7692 296.4759,-63.2034\"/>\n</g>\n</g>\n</svg>\n",
                        "text/plain": "<graphviz.files.Source at 0x7f163aae1710>"
                    },
                    "metadata": {},
                    "output_type": "display_data"
                }
            ],
            "source": "# Display the decision tree\n\ndisplay(graphviz.Source(tree.export_graphviz(clf)))"
        },
        {
            "cell_type": "code",
            "execution_count": 205,
            "metadata": {},
            "outputs": [],
            "source": "#Predict the response for test dataset\ny_pred = clf.predict(X_test)"
        },
        {
            "cell_type": "code",
            "execution_count": 206,
            "metadata": {},
            "outputs": [
                {
                    "name": "stdout",
                    "output_type": "stream",
                    "text": "Accuracy: 1.0\n"
                }
            ],
            "source": "# Model Accuracy, how often is the classifier correct?\nprint(\"Accuracy:\",metrics.accuracy_score(y_test, y_pred))"
        },
        {
            "cell_type": "markdown",
            "metadata": {},
            "source": "The model gives an accuracy of 100%, so it has no sense for this dataset to look for another machine learning algorithm"
        },
        {
            "cell_type": "markdown",
            "metadata": {},
            "source": "Now we can deploy the model in Watson"
        },
        {
            "cell_type": "code",
            "execution_count": 207,
            "metadata": {},
            "outputs": [],
            "source": "# DEPLOY THE MODEL"
        },
        {
            "cell_type": "markdown",
            "metadata": {},
            "source": "Create your wml_credentials variable with the next structure to access the WML service\n\n`wml_credentials={\n  \"url\": \"xxxxxxxx\",\n  \"apikey\": \"xxxxxxxx\",\n  \"instance_id\": \"xxxxxxxx\"\n }\n`"
        },
        {
            "cell_type": "code",
            "execution_count": 208,
            "metadata": {},
            "outputs": [],
            "source": "# The code was removed by Watson Studio for sharing."
        },
        {
            "cell_type": "code",
            "execution_count": 209,
            "metadata": {},
            "outputs": [],
            "source": "# Initialize the WML API Client\nclient = WatsonMachineLearningAPIClient(wml_credentials)"
        },
        {
            "cell_type": "code",
            "execution_count": 210,
            "metadata": {},
            "outputs": [],
            "source": "#Specify the Properties \nmodel_props = {client.repository.ModelMetaNames.AUTHOR_NAME: \"Prometeo Team\", \n               client.repository.ModelMetaNames.AUTHOR_EMAIL: \"\", \n               client.repository.ModelMetaNames.NAME: \"PrometeoManualModel\"}\n"
        },
        {
            "cell_type": "code",
            "execution_count": 211,
            "metadata": {},
            "outputs": [],
            "source": "# Store the Machine Learning Model\nmodel_artifact=client.repository.store_model(clf, meta_props=model_props)"
        },
        {
            "cell_type": "code",
            "execution_count": 212,
            "metadata": {},
            "outputs": [
                {
                    "name": "stdout",
                    "output_type": "stream",
                    "text": "------------------------------------  -------------------  ------------------------  -----------------  -----\nGUID                                  NAME                 CREATED                   FRAMEWORK          TYPE\n5adc2261-b696-4d83-9f66-7671dab1dbb8  PrometeoManualModel  2020-01-06T22:45:27.116Z  scikit-learn-0.20  model\n66fba9df-e9b5-416a-8be3-da18f5208640  PrometeoManualModel  2020-01-06T22:19:29.225Z  scikit-learn-0.20  model\nb4cc8727-da1d-4ac5-ba4b-a907df7f1219  PrometeoManualModel  2020-01-06T21:58:42.526Z  scikit-learn-0.20  model\n73a3cf06-20b8-4d4b-b51d-46f7958e29e1  PrometeoManualModel  2020-01-06T21:55:08.107Z  scikit-learn-0.20  model\nb713fe6c-3808-49b5-994b-a75c7bfaa10f  PrometeoManualModel  2020-01-06T21:37:32.435Z  scikit-learn-0.20  model\nb08031b9-4424-480b-be5e-51c7c28cbec4  PrometeoManualModel  2020-01-06T21:35:01.796Z  scikit-learn-0.20  model\na41c929a-1189-478e-b0cc-644e6cd23c40  PrometeoManualModel  2020-01-06T21:33:54.128Z  scikit-learn-0.20  model\nf6dc01bc-1a53-40ca-8132-cb82d1bc5d65  PrometeoManualModel  2020-01-06T21:30:49.050Z  scikit-learn-0.20  model\n2ccb721a-a003-4949-b275-5e9c0838b179  PrometeoManualModel  2020-01-06T21:29:15.940Z  scikit-learn-0.20  model\n8db7341c-74ff-4c87-98a3-0903e8ff8fe6  PrometeoManualModel  2020-01-06T21:27:57.552Z  scikit-learn-0.20  model\n741d2043-8b2b-492c-8e2a-5ba39af4226c  PrometeoManualModel  2020-01-06T21:20:24.947Z  scikit-learn-0.20  model\n5e3c5f9d-0a74-4d40-a339-2af8f0a37004  PrometeoManualModel  2020-01-06T21:18:06.398Z  scikit-learn-0.20  model\n------------------------------------  -------------------  ------------------------  -----------------  -----\n"
                }
            ],
            "source": "# List of saved models\nclient.repository.list()"
        },
        {
            "cell_type": "code",
            "execution_count": 213,
            "metadata": {},
            "outputs": [
                {
                    "name": "stdout",
                    "output_type": "stream",
                    "text": "\n\n#######################################################################################\n\nSynchronous deployment creation for uid: '5adc2261-b696-4d83-9f66-7671dab1dbb8' started\n\n#######################################################################################\n\n\nINITIALIZING\nDEPLOY_SUCCESS\n\n\n------------------------------------------------------------------------------------------------\nSuccessfully finished deployment creation, deployment_uid='416f1531-fee0-44da-ac8f-99890a479cb0'\n------------------------------------------------------------------------------------------------\n\n\n"
                }
            ],
            "source": "#Get model UID\npublished_model_uid = client.repository.get_model_uid(model_artifact)\n\n#Deploy the model\ncreated_deployment = client.deployments.create(published_model_uid, name=\"PrometeoManualModel\")"
        },
        {
            "cell_type": "code",
            "execution_count": 214,
            "metadata": {},
            "outputs": [
                {
                    "name": "stdout",
                    "output_type": "stream",
                    "text": "https://eu-gb.ml.cloud.ibm.com/v3/wml_instances/ab316f3d-92d8-4e31-8940-b0e7a26412d6/deployments/416f1531-fee0-44da-ac8f-99890a479cb0/online\n"
                }
            ],
            "source": "# Scoring endpoint of our deployed Machine learning model\nscoring_endpoint = client.deployments.get_scoring_url(created_deployment)\nprint(scoring_endpoint)"
        },
        {
            "cell_type": "code",
            "execution_count": 215,
            "metadata": {},
            "outputs": [
                {
                    "name": "stdout",
                    "output_type": "stream",
                    "text": "{'fields': ['prediction', 'probability'], 'values': [[3, [0.0, 0.0, 1.0]]]}\n"
                }
            ],
            "source": "# Sample code to test the scoring endpoint and get predictions\npayload_scoring = {\"fields\": [\"Humidity\", \"Temperature\", \"CCO\"], \"values\": [[20, 30, 50]]}\npredictions = client.deployments.score(scoring_endpoint, payload_scoring)\nprint(predictions)"
        },
        {
            "cell_type": "code",
            "execution_count": null,
            "metadata": {},
            "outputs": [],
            "source": ""
        }
    ],
    "metadata": {
        "kernelspec": {
            "display_name": "Python 3.6",
            "language": "python",
            "name": "python3"
        },
        "language_info": {
            "codemirror_mode": {
                "name": "ipython",
                "version": 3
            },
            "file_extension": ".py",
            "mimetype": "text/x-python",
            "name": "python",
            "nbconvert_exporter": "python",
            "pygments_lexer": "ipython3",
            "version": "3.6.8"
        }
    },
    "nbformat": 4,
    "nbformat_minor": 1
}